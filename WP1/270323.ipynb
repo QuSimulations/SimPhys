{
 "cells": [
  {
   "cell_type": "code",
   "execution_count": null,
   "metadata": {},
   "outputs": [],
   "source": [
    "import matplotlib.pyplot as plt\n",
    "\n",
    "\n",
    "\n"
   ]
  }
 ],
 "metadata": {
  "kernelspec": {
   "display_name": "Python 3",
   "language": "python",
   "name": "python3"
  },
  "language_info": {
   "name": "python",
   "version": "3.11.2"
  },
  "orig_nbformat": 4,
  "vscode": {
   "interpreter": {
    "hash": "bd6301d2387c502713dfb7d7370a577a389514b9c42c03d29ceba4b56cff0d1d"
   }
  }
 },
 "nbformat": 4,
 "nbformat_minor": 2
}
